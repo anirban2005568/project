{
 "cells": [
  {
   "cell_type": "code",
   "execution_count": 1,
   "id": "3cc4814a",
   "metadata": {},
   "outputs": [
    {
     "data": {
      "text/html": [
       "<div>\n",
       "<style scoped>\n",
       "    .dataframe tbody tr th:only-of-type {\n",
       "        vertical-align: middle;\n",
       "    }\n",
       "\n",
       "    .dataframe tbody tr th {\n",
       "        vertical-align: top;\n",
       "    }\n",
       "\n",
       "    .dataframe thead th {\n",
       "        text-align: right;\n",
       "    }\n",
       "</style>\n",
       "<table border=\"1\" class=\"dataframe\">\n",
       "  <thead>\n",
       "    <tr style=\"text-align: right;\">\n",
       "      <th></th>\n",
       "      <th>id</th>\n",
       "      <th>Att1</th>\n",
       "      <th>Att2</th>\n",
       "      <th>Att3</th>\n",
       "      <th>Att4</th>\n",
       "      <th>Att5</th>\n",
       "      <th>Att6</th>\n",
       "      <th>Att7</th>\n",
       "      <th>Att8</th>\n",
       "      <th>Att9</th>\n",
       "      <th>...</th>\n",
       "      <th>Class5</th>\n",
       "      <th>Class6</th>\n",
       "      <th>Class7</th>\n",
       "      <th>Class8</th>\n",
       "      <th>Class9</th>\n",
       "      <th>Class10</th>\n",
       "      <th>Class11</th>\n",
       "      <th>Class12</th>\n",
       "      <th>Class13</th>\n",
       "      <th>Class14</th>\n",
       "    </tr>\n",
       "  </thead>\n",
       "  <tbody>\n",
       "    <tr>\n",
       "      <th>0</th>\n",
       "      <td>1</td>\n",
       "      <td>0.093700</td>\n",
       "      <td>0.139771</td>\n",
       "      <td>0.062774</td>\n",
       "      <td>0.007698</td>\n",
       "      <td>0.083873</td>\n",
       "      <td>-0.119156</td>\n",
       "      <td>0.073305</td>\n",
       "      <td>0.005510</td>\n",
       "      <td>0.027523</td>\n",
       "      <td>...</td>\n",
       "      <td>0</td>\n",
       "      <td>0</td>\n",
       "      <td>0</td>\n",
       "      <td>0</td>\n",
       "      <td>0</td>\n",
       "      <td>0</td>\n",
       "      <td>0</td>\n",
       "      <td>0</td>\n",
       "      <td>0</td>\n",
       "      <td>0</td>\n",
       "    </tr>\n",
       "    <tr>\n",
       "      <th>1</th>\n",
       "      <td>2</td>\n",
       "      <td>-0.022711</td>\n",
       "      <td>-0.050504</td>\n",
       "      <td>-0.035691</td>\n",
       "      <td>-0.065434</td>\n",
       "      <td>-0.084316</td>\n",
       "      <td>-0.378560</td>\n",
       "      <td>0.038212</td>\n",
       "      <td>0.085770</td>\n",
       "      <td>0.182613</td>\n",
       "      <td>...</td>\n",
       "      <td>0</td>\n",
       "      <td>0</td>\n",
       "      <td>1</td>\n",
       "      <td>1</td>\n",
       "      <td>0</td>\n",
       "      <td>0</td>\n",
       "      <td>0</td>\n",
       "      <td>1</td>\n",
       "      <td>1</td>\n",
       "      <td>0</td>\n",
       "    </tr>\n",
       "    <tr>\n",
       "      <th>2</th>\n",
       "      <td>3</td>\n",
       "      <td>-0.090407</td>\n",
       "      <td>0.021198</td>\n",
       "      <td>0.208712</td>\n",
       "      <td>0.102752</td>\n",
       "      <td>0.119315</td>\n",
       "      <td>0.041729</td>\n",
       "      <td>-0.021728</td>\n",
       "      <td>0.019603</td>\n",
       "      <td>-0.063853</td>\n",
       "      <td>...</td>\n",
       "      <td>0</td>\n",
       "      <td>0</td>\n",
       "      <td>0</td>\n",
       "      <td>0</td>\n",
       "      <td>0</td>\n",
       "      <td>0</td>\n",
       "      <td>0</td>\n",
       "      <td>1</td>\n",
       "      <td>1</td>\n",
       "      <td>0</td>\n",
       "    </tr>\n",
       "    <tr>\n",
       "      <th>3</th>\n",
       "      <td>4</td>\n",
       "      <td>-0.085235</td>\n",
       "      <td>0.009540</td>\n",
       "      <td>-0.013228</td>\n",
       "      <td>0.094063</td>\n",
       "      <td>-0.013592</td>\n",
       "      <td>-0.030719</td>\n",
       "      <td>-0.116062</td>\n",
       "      <td>-0.131674</td>\n",
       "      <td>-0.165448</td>\n",
       "      <td>...</td>\n",
       "      <td>0</td>\n",
       "      <td>0</td>\n",
       "      <td>0</td>\n",
       "      <td>0</td>\n",
       "      <td>0</td>\n",
       "      <td>0</td>\n",
       "      <td>0</td>\n",
       "      <td>1</td>\n",
       "      <td>1</td>\n",
       "      <td>1</td>\n",
       "    </tr>\n",
       "    <tr>\n",
       "      <th>4</th>\n",
       "      <td>5</td>\n",
       "      <td>-0.088765</td>\n",
       "      <td>-0.026743</td>\n",
       "      <td>0.002075</td>\n",
       "      <td>-0.043819</td>\n",
       "      <td>-0.005465</td>\n",
       "      <td>0.004306</td>\n",
       "      <td>-0.055865</td>\n",
       "      <td>-0.071484</td>\n",
       "      <td>-0.159025</td>\n",
       "      <td>...</td>\n",
       "      <td>0</td>\n",
       "      <td>0</td>\n",
       "      <td>0</td>\n",
       "      <td>0</td>\n",
       "      <td>0</td>\n",
       "      <td>0</td>\n",
       "      <td>0</td>\n",
       "      <td>0</td>\n",
       "      <td>0</td>\n",
       "      <td>0</td>\n",
       "    </tr>\n",
       "  </tbody>\n",
       "</table>\n",
       "<p>5 rows × 118 columns</p>\n",
       "</div>"
      ],
      "text/plain": [
       "   id      Att1      Att2      Att3      Att4      Att5      Att6      Att7  \\\n",
       "0   1  0.093700  0.139771  0.062774  0.007698  0.083873 -0.119156  0.073305   \n",
       "1   2 -0.022711 -0.050504 -0.035691 -0.065434 -0.084316 -0.378560  0.038212   \n",
       "2   3 -0.090407  0.021198  0.208712  0.102752  0.119315  0.041729 -0.021728   \n",
       "3   4 -0.085235  0.009540 -0.013228  0.094063 -0.013592 -0.030719 -0.116062   \n",
       "4   5 -0.088765 -0.026743  0.002075 -0.043819 -0.005465  0.004306 -0.055865   \n",
       "\n",
       "       Att8      Att9  ...  Class5  Class6  Class7  Class8  Class9  Class10  \\\n",
       "0  0.005510  0.027523  ...       0       0       0       0       0        0   \n",
       "1  0.085770  0.182613  ...       0       0       1       1       0        0   \n",
       "2  0.019603 -0.063853  ...       0       0       0       0       0        0   \n",
       "3 -0.131674 -0.165448  ...       0       0       0       0       0        0   \n",
       "4 -0.071484 -0.159025  ...       0       0       0       0       0        0   \n",
       "\n",
       "   Class11  Class12  Class13  Class14  \n",
       "0        0        0        0        0  \n",
       "1        0        1        1        0  \n",
       "2        0        1        1        0  \n",
       "3        0        1        1        1  \n",
       "4        0        0        0        0  \n",
       "\n",
       "[5 rows x 118 columns]"
      ]
     },
     "execution_count": 1,
     "metadata": {},
     "output_type": "execute_result"
    }
   ],
   "source": [
    "import pandas as pd\n",
    "df = pd.read_csv(\"csv_result-yeast-train.csv\")\n",
    "df.head()"
   ]
  },
  {
   "cell_type": "code",
   "execution_count": 2,
   "id": "488fb2ae",
   "metadata": {},
   "outputs": [
    {
     "data": {
      "text/plain": [
       "id         0\n",
       "Att1       0\n",
       "Att2       0\n",
       "Att3       0\n",
       "Att4       0\n",
       "          ..\n",
       "Class10    0\n",
       "Class11    0\n",
       "Class12    0\n",
       "Class13    0\n",
       "Class14    0\n",
       "Length: 118, dtype: int64"
      ]
     },
     "execution_count": 2,
     "metadata": {},
     "output_type": "execute_result"
    }
   ],
   "source": [
    "df.isnull().sum()"
   ]
  },
  {
   "cell_type": "code",
   "execution_count": 3,
   "id": "e7c10394",
   "metadata": {},
   "outputs": [
    {
     "data": {
      "text/html": [
       "<div>\n",
       "<style scoped>\n",
       "    .dataframe tbody tr th:only-of-type {\n",
       "        vertical-align: middle;\n",
       "    }\n",
       "\n",
       "    .dataframe tbody tr th {\n",
       "        vertical-align: top;\n",
       "    }\n",
       "\n",
       "    .dataframe thead th {\n",
       "        text-align: right;\n",
       "    }\n",
       "</style>\n",
       "<table border=\"1\" class=\"dataframe\">\n",
       "  <thead>\n",
       "    <tr style=\"text-align: right;\">\n",
       "      <th></th>\n",
       "      <th>id</th>\n",
       "      <th>Att1</th>\n",
       "      <th>Att2</th>\n",
       "      <th>Att3</th>\n",
       "      <th>Att4</th>\n",
       "      <th>Att5</th>\n",
       "      <th>Att6</th>\n",
       "      <th>Att7</th>\n",
       "      <th>Att8</th>\n",
       "      <th>Att9</th>\n",
       "      <th>...</th>\n",
       "      <th>Class5</th>\n",
       "      <th>Class6</th>\n",
       "      <th>Class7</th>\n",
       "      <th>Class8</th>\n",
       "      <th>Class9</th>\n",
       "      <th>Class10</th>\n",
       "      <th>Class11</th>\n",
       "      <th>Class12</th>\n",
       "      <th>Class13</th>\n",
       "      <th>Class14</th>\n",
       "    </tr>\n",
       "  </thead>\n",
       "  <tbody>\n",
       "    <tr>\n",
       "      <th>count</th>\n",
       "      <td>1500.000000</td>\n",
       "      <td>1500.000000</td>\n",
       "      <td>1500.000000</td>\n",
       "      <td>1500.000000</td>\n",
       "      <td>1500.000000</td>\n",
       "      <td>1500.000000</td>\n",
       "      <td>1500.000000</td>\n",
       "      <td>1500.000000</td>\n",
       "      <td>1500.000000</td>\n",
       "      <td>1500.000000</td>\n",
       "      <td>...</td>\n",
       "      <td>1500.000000</td>\n",
       "      <td>1500.000000</td>\n",
       "      <td>1500.000000</td>\n",
       "      <td>1500.000000</td>\n",
       "      <td>1500.000000</td>\n",
       "      <td>1500.000000</td>\n",
       "      <td>1500.000000</td>\n",
       "      <td>1500.000000</td>\n",
       "      <td>1500.000000</td>\n",
       "      <td>1500.00000</td>\n",
       "    </tr>\n",
       "    <tr>\n",
       "      <th>mean</th>\n",
       "      <td>750.500000</td>\n",
       "      <td>0.000690</td>\n",
       "      <td>-0.001564</td>\n",
       "      <td>0.000095</td>\n",
       "      <td>-0.000012</td>\n",
       "      <td>0.001144</td>\n",
       "      <td>0.000644</td>\n",
       "      <td>0.001820</td>\n",
       "      <td>-0.000192</td>\n",
       "      <td>-0.000397</td>\n",
       "      <td>...</td>\n",
       "      <td>0.294000</td>\n",
       "      <td>0.252000</td>\n",
       "      <td>0.174000</td>\n",
       "      <td>0.192667</td>\n",
       "      <td>0.065333</td>\n",
       "      <td>0.107333</td>\n",
       "      <td>0.132000</td>\n",
       "      <td>0.752000</td>\n",
       "      <td>0.744000</td>\n",
       "      <td>0.01400</td>\n",
       "    </tr>\n",
       "    <tr>\n",
       "      <th>std</th>\n",
       "      <td>433.157015</td>\n",
       "      <td>0.098095</td>\n",
       "      <td>0.096837</td>\n",
       "      <td>0.099603</td>\n",
       "      <td>0.094419</td>\n",
       "      <td>0.096521</td>\n",
       "      <td>0.097421</td>\n",
       "      <td>0.096055</td>\n",
       "      <td>0.097097</td>\n",
       "      <td>0.096889</td>\n",
       "      <td>...</td>\n",
       "      <td>0.455744</td>\n",
       "      <td>0.434306</td>\n",
       "      <td>0.379236</td>\n",
       "      <td>0.394525</td>\n",
       "      <td>0.247196</td>\n",
       "      <td>0.309640</td>\n",
       "      <td>0.338604</td>\n",
       "      <td>0.431996</td>\n",
       "      <td>0.436567</td>\n",
       "      <td>0.11753</td>\n",
       "    </tr>\n",
       "    <tr>\n",
       "      <th>min</th>\n",
       "      <td>1.000000</td>\n",
       "      <td>-0.371146</td>\n",
       "      <td>-0.472632</td>\n",
       "      <td>-0.339195</td>\n",
       "      <td>-0.332463</td>\n",
       "      <td>-0.355702</td>\n",
       "      <td>-0.509447</td>\n",
       "      <td>-0.319750</td>\n",
       "      <td>-0.594498</td>\n",
       "      <td>-0.369712</td>\n",
       "      <td>...</td>\n",
       "      <td>0.000000</td>\n",
       "      <td>0.000000</td>\n",
       "      <td>0.000000</td>\n",
       "      <td>0.000000</td>\n",
       "      <td>0.000000</td>\n",
       "      <td>0.000000</td>\n",
       "      <td>0.000000</td>\n",
       "      <td>0.000000</td>\n",
       "      <td>0.000000</td>\n",
       "      <td>0.00000</td>\n",
       "    </tr>\n",
       "    <tr>\n",
       "      <th>25%</th>\n",
       "      <td>375.750000</td>\n",
       "      <td>-0.052913</td>\n",
       "      <td>-0.058382</td>\n",
       "      <td>-0.058098</td>\n",
       "      <td>-0.058426</td>\n",
       "      <td>-0.060212</td>\n",
       "      <td>-0.061527</td>\n",
       "      <td>-0.058743</td>\n",
       "      <td>-0.063183</td>\n",
       "      <td>-0.066798</td>\n",
       "      <td>...</td>\n",
       "      <td>0.000000</td>\n",
       "      <td>0.000000</td>\n",
       "      <td>0.000000</td>\n",
       "      <td>0.000000</td>\n",
       "      <td>0.000000</td>\n",
       "      <td>0.000000</td>\n",
       "      <td>0.000000</td>\n",
       "      <td>1.000000</td>\n",
       "      <td>0.000000</td>\n",
       "      <td>0.00000</td>\n",
       "    </tr>\n",
       "    <tr>\n",
       "      <th>50%</th>\n",
       "      <td>750.500000</td>\n",
       "      <td>0.004750</td>\n",
       "      <td>-0.003613</td>\n",
       "      <td>0.003051</td>\n",
       "      <td>0.000531</td>\n",
       "      <td>0.002461</td>\n",
       "      <td>-0.002471</td>\n",
       "      <td>0.005125</td>\n",
       "      <td>0.001568</td>\n",
       "      <td>0.002282</td>\n",
       "      <td>...</td>\n",
       "      <td>0.000000</td>\n",
       "      <td>0.000000</td>\n",
       "      <td>0.000000</td>\n",
       "      <td>0.000000</td>\n",
       "      <td>0.000000</td>\n",
       "      <td>0.000000</td>\n",
       "      <td>0.000000</td>\n",
       "      <td>1.000000</td>\n",
       "      <td>1.000000</td>\n",
       "      <td>0.00000</td>\n",
       "    </tr>\n",
       "    <tr>\n",
       "      <th>75%</th>\n",
       "      <td>1125.250000</td>\n",
       "      <td>0.058243</td>\n",
       "      <td>0.044929</td>\n",
       "      <td>0.062950</td>\n",
       "      <td>0.053071</td>\n",
       "      <td>0.067034</td>\n",
       "      <td>0.059498</td>\n",
       "      <td>0.068109</td>\n",
       "      <td>0.059726</td>\n",
       "      <td>0.064056</td>\n",
       "      <td>...</td>\n",
       "      <td>1.000000</td>\n",
       "      <td>1.000000</td>\n",
       "      <td>0.000000</td>\n",
       "      <td>0.000000</td>\n",
       "      <td>0.000000</td>\n",
       "      <td>0.000000</td>\n",
       "      <td>0.000000</td>\n",
       "      <td>1.000000</td>\n",
       "      <td>1.000000</td>\n",
       "      <td>0.00000</td>\n",
       "    </tr>\n",
       "    <tr>\n",
       "      <th>max</th>\n",
       "      <td>1500.000000</td>\n",
       "      <td>0.520272</td>\n",
       "      <td>0.542876</td>\n",
       "      <td>0.353241</td>\n",
       "      <td>0.372553</td>\n",
       "      <td>0.289613</td>\n",
       "      <td>0.336971</td>\n",
       "      <td>0.284790</td>\n",
       "      <td>0.400779</td>\n",
       "      <td>0.419852</td>\n",
       "      <td>...</td>\n",
       "      <td>1.000000</td>\n",
       "      <td>1.000000</td>\n",
       "      <td>1.000000</td>\n",
       "      <td>1.000000</td>\n",
       "      <td>1.000000</td>\n",
       "      <td>1.000000</td>\n",
       "      <td>1.000000</td>\n",
       "      <td>1.000000</td>\n",
       "      <td>1.000000</td>\n",
       "      <td>1.00000</td>\n",
       "    </tr>\n",
       "  </tbody>\n",
       "</table>\n",
       "<p>8 rows × 118 columns</p>\n",
       "</div>"
      ],
      "text/plain": [
       "                id         Att1         Att2         Att3         Att4  \\\n",
       "count  1500.000000  1500.000000  1500.000000  1500.000000  1500.000000   \n",
       "mean    750.500000     0.000690    -0.001564     0.000095    -0.000012   \n",
       "std     433.157015     0.098095     0.096837     0.099603     0.094419   \n",
       "min       1.000000    -0.371146    -0.472632    -0.339195    -0.332463   \n",
       "25%     375.750000    -0.052913    -0.058382    -0.058098    -0.058426   \n",
       "50%     750.500000     0.004750    -0.003613     0.003051     0.000531   \n",
       "75%    1125.250000     0.058243     0.044929     0.062950     0.053071   \n",
       "max    1500.000000     0.520272     0.542876     0.353241     0.372553   \n",
       "\n",
       "              Att5         Att6         Att7         Att8         Att9  ...  \\\n",
       "count  1500.000000  1500.000000  1500.000000  1500.000000  1500.000000  ...   \n",
       "mean      0.001144     0.000644     0.001820    -0.000192    -0.000397  ...   \n",
       "std       0.096521     0.097421     0.096055     0.097097     0.096889  ...   \n",
       "min      -0.355702    -0.509447    -0.319750    -0.594498    -0.369712  ...   \n",
       "25%      -0.060212    -0.061527    -0.058743    -0.063183    -0.066798  ...   \n",
       "50%       0.002461    -0.002471     0.005125     0.001568     0.002282  ...   \n",
       "75%       0.067034     0.059498     0.068109     0.059726     0.064056  ...   \n",
       "max       0.289613     0.336971     0.284790     0.400779     0.419852  ...   \n",
       "\n",
       "            Class5       Class6       Class7       Class8       Class9  \\\n",
       "count  1500.000000  1500.000000  1500.000000  1500.000000  1500.000000   \n",
       "mean      0.294000     0.252000     0.174000     0.192667     0.065333   \n",
       "std       0.455744     0.434306     0.379236     0.394525     0.247196   \n",
       "min       0.000000     0.000000     0.000000     0.000000     0.000000   \n",
       "25%       0.000000     0.000000     0.000000     0.000000     0.000000   \n",
       "50%       0.000000     0.000000     0.000000     0.000000     0.000000   \n",
       "75%       1.000000     1.000000     0.000000     0.000000     0.000000   \n",
       "max       1.000000     1.000000     1.000000     1.000000     1.000000   \n",
       "\n",
       "           Class10      Class11      Class12      Class13     Class14  \n",
       "count  1500.000000  1500.000000  1500.000000  1500.000000  1500.00000  \n",
       "mean      0.107333     0.132000     0.752000     0.744000     0.01400  \n",
       "std       0.309640     0.338604     0.431996     0.436567     0.11753  \n",
       "min       0.000000     0.000000     0.000000     0.000000     0.00000  \n",
       "25%       0.000000     0.000000     1.000000     0.000000     0.00000  \n",
       "50%       0.000000     0.000000     1.000000     1.000000     0.00000  \n",
       "75%       0.000000     0.000000     1.000000     1.000000     0.00000  \n",
       "max       1.000000     1.000000     1.000000     1.000000     1.00000  \n",
       "\n",
       "[8 rows x 118 columns]"
      ]
     },
     "execution_count": 3,
     "metadata": {},
     "output_type": "execute_result"
    }
   ],
   "source": [
    "df.describe()"
   ]
  },
  {
   "cell_type": "code",
   "execution_count": 4,
   "id": "a14e1c5d",
   "metadata": {},
   "outputs": [
    {
     "data": {
      "text/plain": [
       "0    1211\n",
       "1     289\n",
       "Name: Class8, dtype: int64"
      ]
     },
     "execution_count": 4,
     "metadata": {},
     "output_type": "execute_result"
    }
   ],
   "source": [
    "df.Class8.value_counts()"
   ]
  },
  {
   "cell_type": "code",
   "execution_count": 5,
   "id": "d849a1d6",
   "metadata": {},
   "outputs": [],
   "source": [
    "X = df.drop(\"Class8\",axis=1)\n",
    "y = df['Class8']"
   ]
  },
  {
   "cell_type": "code",
   "execution_count": 7,
   "id": "c8cfed46",
   "metadata": {},
   "outputs": [
    {
     "data": {
      "text/plain": [
       "array([[-1.73089649e+00,  9.48480303e-01,  1.46000024e+00,\n",
       "         6.29498915e-01,  8.16867899e-02,  8.57388366e-01,\n",
       "        -1.23013295e+00,  7.44464086e-01,  5.87470951e-02,\n",
       "         2.88263977e-01,  4.43862263e-01, -2.47850420e-01,\n",
       "         6.42939343e-01,  1.49653367e+00,  8.55067022e-01,\n",
       "        -1.05708618e-01, -9.26174868e-03, -1.52894409e+00,\n",
       "         1.24076258e+00,  3.52829495e-02,  2.92095375e-01,\n",
       "         5.53778764e-02,  5.31447894e-01,  6.77517027e-01,\n",
       "         3.30370849e-01,  1.05472570e+00, -1.48312581e-01,\n",
       "         1.20973373e+00, -5.65889928e-01, -2.83605242e-01,\n",
       "         1.47815883e+00,  1.02353803e+00,  2.51647198e-01,\n",
       "         1.03590993e-01,  5.79218723e-01, -1.11156811e+00,\n",
       "        -1.88653246e-01, -1.13069077e+00, -2.15352957e+00,\n",
       "        -1.11195983e+00,  4.15678255e+00,  4.45236523e-01,\n",
       "        -1.94363919e+00, -2.43970982e+00,  1.39822052e+00,\n",
       "        -2.29989878e+00, -1.59083542e+00, -3.19200790e+00,\n",
       "        -2.64346609e-01,  5.56573639e-01,  5.02943064e-01,\n",
       "        -2.98198113e-01, -8.71207802e-02,  3.29332528e-01,\n",
       "         1.48135293e-01, -1.05976098e+00, -2.94230007e-01,\n",
       "         1.51006129e+00,  1.32502134e+00, -6.81418374e-01,\n",
       "         5.89555182e-01,  2.53134879e-01,  7.11914308e-01,\n",
       "         5.88638415e-01, -1.16122445e+00, -5.65818454e-01,\n",
       "        -1.02618104e+00,  1.74479310e-01, -6.49884424e-01,\n",
       "         3.24943553e-01, -6.76776317e-01,  1.00522936e-01,\n",
       "        -8.65555936e-01, -1.68581252e-01, -3.20553887e-01,\n",
       "        -1.00295367e+00, -1.81057656e+00, -7.56240936e-01,\n",
       "        -8.10015579e-01,  1.02900512e+00, -8.33583503e-02,\n",
       "        -4.23001970e-01, -5.62450737e-02,  1.90769195e-01,\n",
       "        -6.90038170e-01, -2.13795100e-01, -9.67438475e-02,\n",
       "        -2.90758768e-01,  3.01771265e-01, -4.26863151e-01,\n",
       "         1.30150031e-01,  8.78906317e-02, -1.08872326e-01,\n",
       "        -5.51136616e-01,  3.98405264e-01, -1.77656980e-01,\n",
       "        -3.69135726e-01, -4.24486950e-01, -4.22799536e-01,\n",
       "         1.84039016e-01, -5.20948582e-01, -4.31073259e-01,\n",
       "         1.28956932e+00,  1.19192623e+00, -6.81794507e-01,\n",
       "        -8.68553950e-01,  1.22815358e+00,  1.34890655e+00,\n",
       "        -6.45314338e-01, -5.80429492e-01, -4.58970318e-01,\n",
       "        -2.64386351e-01, -3.46754934e-01, -3.89966323e-01,\n",
       "        -1.74133801e+00, -1.70477271e+00, -1.19158646e-01],\n",
       "       [-1.72858709e+00, -2.38636779e-01, -5.05555094e-01,\n",
       "        -3.59407030e-01, -6.93120189e-01, -8.85699344e-01,\n",
       "        -3.89374182e+00,  3.78997874e-01,  8.85619573e-01,\n",
       "         1.88949144e+00, -5.65282846e-01,  3.17041475e-01,\n",
       "         4.51782747e-01, -1.09181638e+00,  2.02025903e-01,\n",
       "         4.93172836e-01, -2.70361568e-01,  1.75794000e+00,\n",
       "        -1.04742032e+00,  1.05745789e-01,  5.70345219e-01,\n",
       "        -6.10337162e-01,  7.28917471e-01,  4.45780068e-01,\n",
       "        -3.96805378e-01,  2.88242421e-01,  1.31742032e+00,\n",
       "        -1.23263654e-01, -1.38386034e+00,  7.50054570e-01,\n",
       "        -8.67563749e-02, -9.65158957e-01, -1.91779754e-01,\n",
       "         2.79088267e-01,  1.35284891e-01,  4.80664906e-01,\n",
       "         5.16236452e-01,  1.93386865e+00,  2.15325895e+00,\n",
       "         1.44441310e+00,  7.42263697e-01,  5.05827391e-01,\n",
       "         1.50535160e+00,  2.53809791e+00,  6.84221004e-01,\n",
       "         1.24897152e+00,  1.64100866e+00,  1.94810454e+00,\n",
       "        -1.53585755e+00,  7.89726232e-01, -4.35057224e-01,\n",
       "        -7.80168120e-01, -1.35118827e+00, -1.08746314e+00,\n",
       "         1.32933304e+00, -1.23313720e+00, -1.10798778e+00,\n",
       "         6.13520773e-01,  6.49121557e-02, -1.32806836e+00,\n",
       "        -1.25239830e+00, -1.13002060e+00, -1.96615199e+00,\n",
       "        -1.49954892e+00, -1.26178561e+00,  1.12036872e+00,\n",
       "         9.02146033e-01, -2.62834012e-01, -1.00785515e+00,\n",
       "        -5.50418704e-01, -1.17054914e-01,  4.61725356e-01,\n",
       "        -6.24659977e-01,  7.17057287e-01, -1.90652254e+00,\n",
       "         8.40981026e-01,  7.18680744e-02,  7.98774008e-01,\n",
       "         1.57171768e-01, -4.10260427e-01, -1.42029179e-01,\n",
       "        -2.56823439e-01,  2.07021981e-01, -3.29370358e-01,\n",
       "        -7.09926293e-01, -6.97718994e-02, -1.13905455e-01,\n",
       "         8.11287287e-02, -3.56180221e-01, -2.07358495e-01,\n",
       "        -4.39926957e-01, -4.21085501e-01, -9.79936073e-03,\n",
       "         4.29168634e-02, -2.10731168e-02,  3.42899863e-01,\n",
       "        -2.35890363e-01,  8.75365261e-02, -1.58667735e-01,\n",
       "        -9.44647075e-02, -2.63017274e-01, -1.23724204e-01,\n",
       "         2.69514406e-01,  1.17345126e+00, -6.81794507e-01,\n",
       "        -8.68553950e-01, -8.14230419e-01, -7.41341201e-01,\n",
       "        -6.45314338e-01, -5.80429492e-01,  2.17879013e+00,\n",
       "        -2.64386351e-01, -3.46754934e-01, -3.89966323e-01,\n",
       "         5.74271046e-01,  5.86588460e-01, -1.19158646e-01],\n",
       "       [-1.72627769e+00, -9.28975991e-01,  2.35132061e-01,\n",
       "         2.09518678e+00,  1.08874940e+00,  1.22470439e+00,\n",
       "         4.21864377e-01, -2.45230457e-01,  2.03939144e-01,\n",
       "        -6.55147984e-01, -5.47060939e-01,  8.29709028e-01,\n",
       "         1.35171935e+00,  8.39765082e-01, -4.23342241e-01,\n",
       "        -2.86553193e-01,  1.00362833e-01, -1.11879215e+00,\n",
       "        -1.37979828e+00, -1.90478335e+00, -1.56984412e+00,\n",
       "        -9.68960204e-01, -3.36155339e-01, -8.91089700e-02,\n",
       "         4.22209046e-01,  7.57446386e-01, -7.94264303e-02,\n",
       "        -9.01617740e-01, -8.86542236e-01, -7.88715141e-01,\n",
       "        -2.10524755e+00, -6.69105617e-01, -6.82617840e-01,\n",
       "        -8.19457366e-01,  8.96288021e-01,  9.61577753e-01,\n",
       "        -9.35370679e-01, -1.02136063e+00, -1.24829077e+00,\n",
       "        -7.56572116e-01,  2.60347421e-01, -2.39055500e-01,\n",
       "        -1.15669655e+00, -1.69957249e+00, -7.21514327e-01,\n",
       "        -2.56111682e-01, -7.29967829e-01, -6.46611162e-01,\n",
       "        -1.02218592e+00,  2.36036080e+00,  1.96085977e-01,\n",
       "         1.16915335e+00,  1.31189253e+00,  9.31276616e-01,\n",
       "        -8.61763505e-02, -4.82813913e-01, -1.27251904e+00,\n",
       "         1.82407987e+00,  1.43020248e+00, -3.25125053e-03,\n",
       "        -1.13459964e-01, -1.64938142e-01,  2.41531313e-01,\n",
       "         1.93976239e-01,  2.54248081e-01, -7.02206934e-01,\n",
       "        -1.94085808e-01, -4.17215685e-01, -9.95754402e-02,\n",
       "         2.98891165e-01,  1.01597211e+00,  1.52146297e-01,\n",
       "         2.11688765e-01, -6.05291786e-03, -8.35244533e-01,\n",
       "        -5.43215937e-01,  1.84383581e-01, -1.44367504e-01,\n",
       "        -9.37079172e-02,  7.80613391e-01, -8.81033722e-01,\n",
       "        -1.05940373e+00, -8.20970692e-01,  3.30997496e+00,\n",
       "        -1.27782225e+00, -1.02284174e+00, -1.04396129e+00,\n",
       "         2.70115949e+00, -6.53275970e-01, -5.78756080e-01,\n",
       "         1.34296553e+00,  2.00824285e+00, -7.20509982e-01,\n",
       "        -1.08285743e+00,  2.03196952e+00,  2.55271141e-01,\n",
       "         1.19482261e-01,  2.06546548e-03, -3.60996350e-02,\n",
       "        -1.12556957e-01,  9.25454262e-02, -6.59599499e-01,\n",
       "        -8.70721292e-01, -4.08844471e-01, -6.81794507e-01,\n",
       "         1.15133896e+00,  1.22815358e+00, -7.41341201e-01,\n",
       "        -6.45314338e-01, -5.80429492e-01, -4.58970318e-01,\n",
       "        -2.64386351e-01, -3.46754934e-01, -3.89966323e-01,\n",
       "         5.74271046e-01,  5.86588460e-01, -1.19158646e-01]])"
      ]
     },
     "execution_count": 7,
     "metadata": {},
     "output_type": "execute_result"
    }
   ],
   "source": [
    "from sklearn.preprocessing import StandardScaler\n",
    "scaler = StandardScaler()\n",
    "X_scaled = scaler.fit_transform(X)\n",
    "X_scaled[:3]"
   ]
  },
  {
   "cell_type": "code",
   "execution_count": 8,
   "id": "fba63df2",
   "metadata": {},
   "outputs": [],
   "source": [
    "from sklearn.model_selection import train_test_split\n",
    "\n",
    "X_train, X_test, y_train, y_test = train_test_split(X_scaled, y, stratify=y, random_state=10)"
   ]
  },
  {
   "cell_type": "code",
   "execution_count": 9,
   "id": "a0311a05",
   "metadata": {},
   "outputs": [
    {
     "data": {
      "text/plain": [
       "(1125, 117)"
      ]
     },
     "execution_count": 9,
     "metadata": {},
     "output_type": "execute_result"
    }
   ],
   "source": [
    "X_train.shape"
   ]
  },
  {
   "cell_type": "code",
   "execution_count": 10,
   "id": "646fc1e7",
   "metadata": {},
   "outputs": [
    {
     "data": {
      "text/plain": [
       "(375, 117)"
      ]
     },
     "execution_count": 10,
     "metadata": {},
     "output_type": "execute_result"
    }
   ],
   "source": [
    "X_test.shape"
   ]
  },
  {
   "cell_type": "code",
   "execution_count": 11,
   "id": "3444aac4",
   "metadata": {},
   "outputs": [
    {
     "data": {
      "text/plain": [
       "0    908\n",
       "1    217\n",
       "Name: Class8, dtype: int64"
      ]
     },
     "execution_count": 11,
     "metadata": {},
     "output_type": "execute_result"
    }
   ],
   "source": [
    "y_train.value_counts()"
   ]
  },
  {
   "cell_type": "code",
   "execution_count": 12,
   "id": "a50598e7",
   "metadata": {},
   "outputs": [
    {
     "data": {
      "text/plain": [
       "0.23898678414096916"
      ]
     },
     "execution_count": 12,
     "metadata": {},
     "output_type": "execute_result"
    }
   ],
   "source": [
    "217/908"
   ]
  },
  {
   "cell_type": "code",
   "execution_count": 13,
   "id": "45a04ac5",
   "metadata": {},
   "outputs": [
    {
     "data": {
      "text/plain": [
       "0    303\n",
       "1     72\n",
       "Name: Class8, dtype: int64"
      ]
     },
     "execution_count": 13,
     "metadata": {},
     "output_type": "execute_result"
    }
   ],
   "source": [
    "y_test.value_counts()"
   ]
  },
  {
   "cell_type": "code",
   "execution_count": 14,
   "id": "0d0c7c1b",
   "metadata": {},
   "outputs": [
    {
     "data": {
      "text/plain": [
       "0.2376237623762376"
      ]
     },
     "execution_count": 14,
     "metadata": {},
     "output_type": "execute_result"
    }
   ],
   "source": [
    "72/303"
   ]
  },
  {
   "cell_type": "code",
   "execution_count": 15,
   "id": "0cec2535",
   "metadata": {},
   "outputs": [
    {
     "data": {
      "text/plain": [
       "array([0.90666667, 0.95666667, 0.95      , 0.96333333, 0.98      ])"
      ]
     },
     "execution_count": 15,
     "metadata": {},
     "output_type": "execute_result"
    }
   ],
   "source": [
    "#stand alone model\n",
    "\n",
    "from sklearn.model_selection import cross_val_score\n",
    "from sklearn.tree import DecisionTreeClassifier\n",
    "\n",
    "scores = cross_val_score(DecisionTreeClassifier(), X, y, cv=5)\n",
    "scores"
   ]
  },
  {
   "cell_type": "code",
   "execution_count": 16,
   "id": "d9393c17",
   "metadata": {},
   "outputs": [
    {
     "data": {
      "text/plain": [
       "0.9513333333333334"
      ]
     },
     "execution_count": 16,
     "metadata": {},
     "output_type": "execute_result"
    }
   ],
   "source": [
    "scores.mean()"
   ]
  },
  {
   "cell_type": "code",
   "execution_count": 17,
   "id": "122486c1",
   "metadata": {},
   "outputs": [
    {
     "data": {
      "text/plain": [
       "0.9617777777777777"
      ]
     },
     "execution_count": 17,
     "metadata": {},
     "output_type": "execute_result"
    }
   ],
   "source": [
    "#bagging method\n",
    "from sklearn.ensemble import BaggingClassifier\n",
    "\n",
    "bag_model = BaggingClassifier(\n",
    "    base_estimator=DecisionTreeClassifier(), \n",
    "    n_estimators=100, \n",
    "    max_samples=0.8, \n",
    "    oob_score=True,\n",
    "    random_state=0\n",
    ")\n",
    "bag_model.fit(X_train, y_train)\n",
    "bag_model.oob_score_"
   ]
  },
  {
   "cell_type": "code",
   "execution_count": 18,
   "id": "32c671ef",
   "metadata": {},
   "outputs": [
    {
     "data": {
      "text/plain": [
       "0.9733333333333334"
      ]
     },
     "execution_count": 18,
     "metadata": {},
     "output_type": "execute_result"
    }
   ],
   "source": [
    "bag_model.score(X_test, y_test)"
   ]
  },
  {
   "cell_type": "code",
   "execution_count": 19,
   "id": "2406f580",
   "metadata": {},
   "outputs": [
    {
     "data": {
      "text/plain": [
       "array([0.96666667, 0.96333333, 0.95      , 0.97      , 0.96666667])"
      ]
     },
     "execution_count": 19,
     "metadata": {},
     "output_type": "execute_result"
    }
   ],
   "source": [
    "bag_model = BaggingClassifier(\n",
    "    base_estimator=DecisionTreeClassifier(), \n",
    "    n_estimators=100, \n",
    "    max_samples=0.8, \n",
    "    oob_score=True,\n",
    "    random_state=0\n",
    ")\n",
    "scores = cross_val_score(bag_model, X, y, cv=5)\n",
    "scores"
   ]
  },
  {
   "cell_type": "code",
   "execution_count": 20,
   "id": "cbe6c749",
   "metadata": {},
   "outputs": [
    {
     "data": {
      "text/plain": [
       "0.9633333333333333"
      ]
     },
     "execution_count": 20,
     "metadata": {},
     "output_type": "execute_result"
    }
   ],
   "source": [
    "scores.mean()"
   ]
  },
  {
   "cell_type": "code",
   "execution_count": 21,
   "id": "911f5dcc",
   "metadata": {},
   "outputs": [
    {
     "data": {
      "text/plain": [
       "0.9346666666666668"
      ]
     },
     "execution_count": 21,
     "metadata": {},
     "output_type": "execute_result"
    }
   ],
   "source": [
    "#random forest\n",
    "from sklearn.ensemble import RandomForestClassifier\n",
    "scores = cross_val_score(RandomForestClassifier(n_estimators=50), X, y, cv=5)\n",
    "scores.mean()"
   ]
  },
  {
   "cell_type": "code",
   "execution_count": null,
   "id": "30febb03",
   "metadata": {},
   "outputs": [],
   "source": []
  }
 ],
 "metadata": {
  "kernelspec": {
   "display_name": "Python 3 (ipykernel)",
   "language": "python",
   "name": "python3"
  },
  "language_info": {
   "codemirror_mode": {
    "name": "ipython",
    "version": 3
   },
   "file_extension": ".py",
   "mimetype": "text/x-python",
   "name": "python",
   "nbconvert_exporter": "python",
   "pygments_lexer": "ipython3",
   "version": "3.9.13"
  }
 },
 "nbformat": 4,
 "nbformat_minor": 5
}
